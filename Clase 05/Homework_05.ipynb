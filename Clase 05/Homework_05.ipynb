{
 "cells": [
  {
   "cell_type": "markdown",
   "metadata": {},
   "source": [
    "# Práctica Clase 5"
   ]
  },
  {
   "cell_type": "markdown",
   "metadata": {},
   "source": [
    "1) Implementar un juego, que consista en apilar números enteros del 1 al 20, de forma aleatoria, para lo cual debe usarse una estructura de Pila. \n",
    "Luego, el usuario debe elegir un número de veces en que se va a quitar elementos de la pila, los cuales, sumados entre sí, no deben superar el valor de 50.\n",
    "El usuario pierde si la suma supera ese valor. Si no lo supera, gana, pero su calificación será 10 menos el número elementos que falten quitar para todavía no superar 50.\n",
    "El programa debe informar si perdió, y si ganó, con qué calificación lo hizo.\n",
    "\n",
    "Consideraciones:<br>\n",
    "a. Se puede usar la función input() para obtener una entrada de teclado.<br>\n",
    "b. Se puede usar la el modulo random para obtener valores aleatorios."
   ]
  },
  {
   "cell_type": "code",
   "execution_count": 9,
   "metadata": {},
   "outputs": [
    {
     "name": "stdout",
     "output_type": "stream",
     "text": [
      "Ganaste con 2\n"
     ]
    }
   ],
   "source": [
    "from random import randint\n",
    "class Juego: \n",
    "    def __init__(self):\n",
    "        self.pila = []\n",
    "        self.sumados = 0\n",
    "    def apilar(self, numero):\n",
    "         self.pila.append(numero)\n",
    "    def desapilar(self):\n",
    "        self.sumados += self.pila.pop()\n",
    "    def apilar_todos(self):\n",
    "        for i in range (1,21):\n",
    "            aleatorio = randint(1,21)\n",
    "            self.apilar(aleatorio)\n",
    "    def elegidos(self,elegido):\n",
    "        for i in range(elegido):\n",
    "            self.desapilar()\n",
    "    def calificacion(self):\n",
    "        # si sumados es mayor que 50 perdio sino \n",
    "        if self.sumados > 50:\n",
    "            return \"Perdiste\"\n",
    "        else:\n",
    "            # el numero de elementos que falten quitar para superar la suma de 50\n",
    "            faltan = 0\n",
    "            while self.sumados <= 50:\n",
    "                self.desapilar()\n",
    "                faltan += 1\n",
    "            # 10 menos \n",
    "            resultado = 10-faltan\n",
    "            return (f\"Ganaste con {resultado}\")\n",
    "        \n",
    "myJuego = Juego()\n",
    "myJuego.apilar_todos()\n",
    "elegido = int(input())\n",
    "myJuego.elegidos(elegido)\n",
    "print(myJuego.calificacion())"
   ]
  },
  {
   "cell_type": "markdown",
   "metadata": {},
   "source": [
    "2) Implementar un juego donde constas de 2 jarras, de capacidad 5 y 3 litros respectivamente, y debes colocar 4 litros en la jarra de 5L.\n",
    "Las opciones posibles son:\n",
    "* Llenar la jarra de 3 litros\n",
    "* Llenar la jarra de 5 litros\n",
    "* Vaciar la jarra de 3 litros\n",
    "* Vaciar la jarra de 5 litros\n",
    "* Verter el contenido de la jarra de 3 litros en la de 5 litros\n",
    "* Verter el contenido de la jarra de 5 litros en la de 3 litros"
   ]
  },
  {
   "cell_type": "code",
   "execution_count": null,
   "metadata": {},
   "outputs": [],
   "source": []
  },
  {
   "cell_type": "code",
   "execution_count": 1,
   "metadata": {},
   "outputs": [
    {
     "name": "stdout",
     "output_type": "stream",
     "text": [
      "[1, 1, 1, 1]\n"
     ]
    }
   ],
   "source": [
    "class Jarritas:\n",
    "    def __init__(self):\n",
    "        self.jarra3 = []\n",
    "        self.jarra5 = []\n",
    "\n",
    "    def verter(self, jarra):\n",
    "        jarra.append(1)\n",
    "\n",
    "    def sacar(self, jarra):\n",
    "        jarra.pop()\n",
    "\n",
    "    def llenar_jarra(self, jarra, litros):\n",
    "        for i in range(litros):\n",
    "            self.verter(jarra)\n",
    "\n",
    "    def llenar_jarra3(self):\n",
    "        self.llenar_jarra(self.jarra3, 3)\n",
    "\n",
    "    def llenar_jarra5(self):\n",
    "        self.llenar_jarra(self.jarra5, 5)\n",
    "\n",
    "    def vaciar_jarra(self, jarra):\n",
    "        for i in range(len(jarra)):\n",
    "            self.sacar(jarra)\n",
    "\n",
    "    def vaciar_jarra3(self):\n",
    "        self.vaciar_jarra(self.jarra3)\n",
    "\n",
    "    def vaciar_jarra5(self):\n",
    "        self.vaciar_jarra(self.jarra5)\n",
    "\n",
    "    def verter_contenido(self, desde, hasta, llena):\n",
    "        veces = len(desde)\n",
    "        for i in range(veces):\n",
    "            if (len(hasta) == llena):\n",
    "                break\n",
    "            self.sacar(desde)\n",
    "            self.verter(hasta)\n",
    "\n",
    "myJarrita = Jarritas()\n",
    "# lleno la jarra de 3 \n",
    "myJarrita.llenar_jarra3()\n",
    "# la paso a la de 5, \n",
    "myJarrita.verter_contenido(myJarrita.jarra3, myJarrita.jarra5, 5)\n",
    "# vuelvo a llenar la de tres\n",
    "myJarrita.llenar_jarra3()\n",
    "#  vuelvo a vaciarla en la de cinco. \n",
    "myJarrita.verter_contenido(myJarrita.jarra3, myJarrita.jarra5, 5)\n",
    "# Me queda un litro en la de tres vacio la de 5 \n",
    "myJarrita.vaciar_jarra5()\n",
    "# paso el litro a la de cinco \n",
    "myJarrita.verter_contenido(myJarrita.jarra3, myJarrita.jarra5, 5)\n",
    "# vuelvo a llenar la de tres \n",
    "myJarrita.llenar_jarra3()\n",
    "# nuevamente paso a la de 5 quedando 4 litros\n",
    "myJarrita.verter_contenido(myJarrita.jarra3, myJarrita.jarra5, 5)\n",
    "print(myJarrita.jarra5)"
   ]
  }
 ],
 "metadata": {
  "kernelspec": {
   "display_name": "Python 3",
   "language": "python",
   "name": "python3"
  },
  "language_info": {
   "codemirror_mode": {
    "name": "ipython",
    "version": 3
   },
   "file_extension": ".py",
   "mimetype": "text/x-python",
   "name": "python",
   "nbconvert_exporter": "python",
   "pygments_lexer": "ipython3",
   "version": "3.10.0"
  }
 },
 "nbformat": 4,
 "nbformat_minor": 4
}
